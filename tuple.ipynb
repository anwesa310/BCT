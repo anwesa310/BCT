{
 "cells": [
  {
   "cell_type": "code",
   "execution_count": 6,
   "metadata": {},
   "outputs": [
    {
     "name": "stdout",
     "output_type": "stream",
     "text": [
      "(20, 47, 53, 87, 21)\n",
      "After update: (20, 47, 53, 47, 21)\n"
     ]
    }
   ],
   "source": [
    "t=()\n",
    "a=[]\n",
    "n=int(input(\"Enter the number of elements:\"))\n",
    "for i in range(n):\n",
    "    a.append(int\n",
    "             (input(\"\")))\n",
    "t=tuple(a)\n",
    "print(t)\n",
    "b=int(input(\"Enter the position for update:\"))\n",
    "c=int(input(\"Enter the number:\"))\n",
    "for i in range(n):\n",
    "    if(b==i):\n",
    "        a[i]=c\n",
    "        break\n",
    "tu=tuple(a)\n",
    "print(\"After update:\",tu)"
   ]
  },
  {
   "cell_type": "code",
   "execution_count": 16,
   "metadata": {},
   "outputs": [
    {
     "name": "stdout",
     "output_type": "stream",
     "text": [
      "Lily - meow\n",
      "Lemon - meow\n",
      "BUnny - bark\n",
      "Davi - bark\n",
      "Lofi - meow\n"
     ]
    }
   ],
   "source": [
    "class Animal:\n",
    "    def __init__(self,name):\n",
    "        self.name=name\n",
    "    def talk(self):\n",
    "        raise NotImplementedError(\"Deriver class must implement this\")\n",
    "class Cat(Animal):\n",
    "    def talk(self):\n",
    "        return \"meow\"\n",
    "class Dog(Animal):\n",
    "    def talk(self):\n",
    "        return \"bark\"\n",
    "animals=[Cat(\"Lily\"), Cat(\"Lemon\"), Dog(\"BUnny\"), Dog(\"Davi\"), Cat(\"Lofi\")]\n",
    "for animal in animals:\n",
    "    print(animal.name,\"-\",animal.talk())\n"
   ]
  },
  {
   "cell_type": "code",
   "execution_count": 17,
   "metadata": {},
   "outputs": [
    {
     "name": "stdout",
     "output_type": "stream",
     "text": [
      "10\n"
     ]
    },
    {
     "ename": "AttributeError",
     "evalue": "type object 'Test' has no attribute '__h'",
     "output_type": "error",
     "traceback": [
      "\u001b[1;31m---------------------------------------------------------------------------\u001b[0m",
      "\u001b[1;31mAttributeError\u001b[0m                            Traceback (most recent call last)",
      "Cell \u001b[1;32mIn[17], line 5\u001b[0m\n\u001b[0;32m      3\u001b[0m     __h\u001b[38;5;241m=\u001b[39m\u001b[38;5;241m20\u001b[39m\n\u001b[0;32m      4\u001b[0m \u001b[38;5;28mprint\u001b[39m(Test\u001b[38;5;241m.\u001b[39mx)\n\u001b[1;32m----> 5\u001b[0m \u001b[38;5;28mprint\u001b[39m(\u001b[43mTest\u001b[49m\u001b[38;5;241;43m.\u001b[39;49m\u001b[43m__h\u001b[49m)\n",
      "\u001b[1;31mAttributeError\u001b[0m: type object 'Test' has no attribute '__h'"
     ]
    }
   ],
   "source": [
    "class Test:\n",
    "    x=10\n",
    "    __h=20\n",
    "print(Test.x)\n",
    "print(Test.__h)"
   ]
  },
  {
   "cell_type": "code",
   "execution_count": 18,
   "metadata": {},
   "outputs": [
    {
     "name": "stdout",
     "output_type": "stream",
     "text": [
      "A:f1\n",
      "B:f1\n"
     ]
    }
   ],
   "source": [
    "class A:\n",
    "    def f1(self):\n",
    "        print(\"A:f1\")\n",
    "class B:\n",
    "    def f1(self):\n",
    "        print(\"B:f1\")\n",
    "obj1=A()\n",
    "obj1.f1()\n",
    "obj2=B()\n",
    "obj2.f1()\n"
   ]
  }
 ],
 "metadata": {
  "kernelspec": {
   "display_name": "Python 3",
   "language": "python",
   "name": "python3"
  },
  "language_info": {
   "codemirror_mode": {
    "name": "ipython",
    "version": 3
   },
   "file_extension": ".py",
   "mimetype": "text/x-python",
   "name": "python",
   "nbconvert_exporter": "python",
   "pygments_lexer": "ipython3",
   "version": "3.13.2"
  }
 },
 "nbformat": 4,
 "nbformat_minor": 2
}
